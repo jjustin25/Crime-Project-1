{
 "cells": [
  {
   "cell_type": "code",
   "execution_count": null,
   "metadata": {},
   "outputs": [],
   "source": [
    "AK_df = df1\n",
    "AL_df = df2\n",
    "AZ_df = df3\n",
    "AR_df = df4\n",
    "CA_df = df5\n",
    "CO_df = df6\n",
    "CT_df = df7\n",
    "DE_df = df8\n",
    "FL_df = df9\n",
    "GA_df = df10\n",
    "HI_df = df11\n",
    "ID_df = df12\n",
    "IL_df = df13\n",
    "IN_df = df14\n",
    "IA_df = df15\n",
    "KS_df = df16\n",
    "KY_df = df17\n",
    "LA_df = df18\n",
    "ME_df = df19\n",
    "MD_df = df20\n",
    "MA_df = df21\n",
    "MI_df = df22\n",
    "MN_df = df23\n",
    "MS_df = df24\n",
    "MO_df = df25\n",
    "MT_df = df26\n",
    "NE_df = df27\n",
    "NV_df = df28\n",
    "NH_df = df29\n",
    "NJ_df = df30\n",
    "NM_df = df31\n",
    "NY_df = df32\n",
    "NC_df = df33\n",
    "ND_df = df34\n",
    "OH_df = df35\n",
    "OK_df = df36\n",
    "OR_df = df37\n",
    "PA_df = df38\n",
    "RI_df = df39\n",
    "SC_df = df40\n",
    "SD_df = df41\n",
    "TN_df = df42\n",
    "TX_df = df43\n",
    "UT_df = df44\n",
    "VT_df = df45\n",
    "VA_df = df46\n",
    "WA_df = df47\n",
    "WV_df = df48\n",
    "WI_df = df49\n",
    "WY_df = df50\n",
    "\n",
    "# #dfList = [AK_df, AL_df, AZ_df, AR_df, CA_df, CO_df, CT_df, DE_df, FL_df, GA_df, HI_df, ID_df, IL_df, IN_df, IA_df,\n",
    "#           KS_df, KY_df, LA_df, ME_df, MD_df, MA_df, MI_df, MN_df, MS_df, MO_df, MT_df, NE_df, NV_df, NH_df, NJ_df,\n",
    "#           NM_df, NY_df, NC_df, OH_df, OK_df, OR_df, PA_df, RI_df, SC_df, SD_df, TN_df, TX_df, UT_df, VT_df, VA_df,\n",
    "#           WA_df, WV_df, WI_df, WY_df]\n",
    "\n",
    "dfList = [df1, df2, df3, df4, df4]\n",
    "\n",
    "print(dfList)\n",
    "                       \n",
    "\n"
   ]
  },
  {
   "cell_type": "code",
   "execution_count": null,
   "metadata": {},
   "outputs": [],
   "source": [
    "##def reduceDF(df):\n",
    "    #return df[[\"KilrType\", \"NumVics\", \"Kilcountry\", \"Kilstate\", \"birthyear\", \"Age1stKil\",\"YearFirst\", \"YearFinal\", \"Century\", \"DecStart\",\"AamodtType\",\"PrevArr\",\"PsychAbus\",\"PhysAbus\"]]"
   ]
  },
  {
   "cell_type": "code",
   "execution_count": null,
   "metadata": {},
   "outputs": [],
   "source": [
    "##newDFList = []\n",
    "#for df in dfList:\n",
    "    #newDFList.append(reduceDF(df))"
   ]
  },
  {
   "cell_type": "code",
   "execution_count": 83,
   "metadata": {},
   "outputs": [],
   "source": [
    "import pandas as pd"
   ]
  },
  {
   "cell_type": "code",
   "execution_count": null,
   "metadata": {
    "scrolled": true
   },
   "outputs": [],
   "source": [
    "#newDFList[2]"
   ]
  },
  {
   "cell_type": "code",
   "execution_count": null,
   "metadata": {},
   "outputs": [],
   "source": [
    "# Create dataframe for Alaska\n",
    "\n",
    "csv_path = \"AKserial.csv\"\n",
    "AK_df = pd.read_csv(csv_path)\n",
    "AK_df.head()"
   ]
  },
  {
   "cell_type": "code",
   "execution_count": null,
   "metadata": {},
   "outputs": [],
   "source": [
    "df = AK_df.set_index(\"Name\")\n",
    "df.head()"
   ]
  },
  {
   "cell_type": "code",
   "execution_count": null,
   "metadata": {},
   "outputs": [],
   "source": [
    "# filtered columns\n",
    "\n",
    "AK_df[[\"Name\", \"KilrType\", \"NumVics\", \"Kilcountry\", \"Kilstate\", \"birthyear\", \"Age1stKil\",\"YearFirst\", \"YearFinal\", \"Century\", \"DecStart\",\"AamodtType\",\"PrevArr\",\"PsychAbus\",\"PhysAbus\"]].head()\n"
   ]
  },
  {
   "cell_type": "code",
   "execution_count": null,
   "metadata": {},
   "outputs": [],
   "source": [
    "# Create dataframe for Alabama\n",
    "\n",
    "csv_path = \"ALserial.csv\"\n",
    "AL_df = pd.read_csv(csv_path)\n",
    "AL_df.head()"
   ]
  },
  {
   "cell_type": "code",
   "execution_count": null,
   "metadata": {},
   "outputs": [],
   "source": [
    "# filtered columns\n",
    "\n",
    "AL_df[[\"Name\", \"KilrType\", \"NumVics\", \"Kilcountry\", \"Kilstate\", \"birthyear\", \"Age1stKil\",\"YearFirst\", \"YearFinal\", \"Century\", \"DecStart\",\"AamodtType\",\"PrevArr\",\"PsychAbus\",\"PhysAbus\"]].head()\n"
   ]
  },
  {
   "cell_type": "code",
   "execution_count": null,
   "metadata": {},
   "outputs": [],
   "source": [
    "# Create dataframe for Arizona\n",
    "\n",
    "csv_path = \"AZserial.csv\"\n",
    "AZ_df = pd.read_csv(csv_path)\n",
    "AZ_df.head()"
   ]
  },
  {
   "cell_type": "code",
   "execution_count": null,
   "metadata": {},
   "outputs": [],
   "source": [
    "# Create dataframe for Arkansas\n",
    "\n",
    "csv_path = \"ARserial.csv\"\n",
    "AR_df = pd.read_csv(csv_path, encoding = \"ISO-8859-1\")\n",
    "AR_df.head()"
   ]
  },
  {
   "cell_type": "code",
   "execution_count": null,
   "metadata": {},
   "outputs": [],
   "source": [
    "# Create dataframe for Californa\n",
    "\n",
    "csv_path = \"CAserial5ormore.csv\"\n",
    "CA_df = pd.read_csv(csv_path)\n",
    "CA_df.head()"
   ]
  },
  {
   "cell_type": "code",
   "execution_count": null,
   "metadata": {},
   "outputs": [],
   "source": [
    "# Create dataframe for Colorado\n",
    "\n",
    "csv_path = \"COserial.csv\"\n",
    "CO_df = pd.read_csv(csv_path)\n",
    "CO_df.head()"
   ]
  },
  {
   "cell_type": "code",
   "execution_count": null,
   "metadata": {},
   "outputs": [],
   "source": [
    "# Create dataframe for Connecticut\n",
    "\n",
    "csv_path = \"CTserial.csv\"\n",
    "CT_df = pd.read_csv(csv_path)\n",
    "CT_df.head()"
   ]
  },
  {
   "cell_type": "code",
   "execution_count": null,
   "metadata": {},
   "outputs": [],
   "source": [
    "# Create dataframe for Delaware\n",
    "\n",
    "csv_path = \"DEserial.csv\"\n",
    "DE_serial_df = pd.read_csv(csv_path, encoding = \"ISO-8859-1\")\n",
    "DE_serial_df.head()"
   ]
  },
  {
   "cell_type": "code",
   "execution_count": null,
   "metadata": {},
   "outputs": [],
   "source": [
    "# Create dataframe for Florida\n",
    "\n",
    "csv_path = \"FLAserial.csv\"\n",
    "FL_df = pd.read_csv(csv_path)\n",
    "FL_df.head()"
   ]
  },
  {
   "cell_type": "code",
   "execution_count": null,
   "metadata": {},
   "outputs": [],
   "source": [
    "# Create dataframe for Georgia\n",
    "\n",
    "csv_path = \"GAserial.csv\"\n",
    "GA_df = pd.read_csv(csv_path)\n",
    "GA_df.head()"
   ]
  },
  {
   "cell_type": "code",
   "execution_count": null,
   "metadata": {},
   "outputs": [],
   "source": [
    "# Create dataframe for Hawaii\n",
    "\n",
    "csv_path = \"HIserial.csv\"\n",
    "HI_df = pd.read_csv(csv_path)\n",
    "HI_df.head()"
   ]
  },
  {
   "cell_type": "code",
   "execution_count": null,
   "metadata": {},
   "outputs": [],
   "source": [
    "# Create dataframe for Idaho\n",
    "\n",
    "csv_path = \"IDserial.csv\"\n",
    "ID_df = pd.read_csv(csv_path)\n",
    "ID_df.head()"
   ]
  },
  {
   "cell_type": "code",
   "execution_count": null,
   "metadata": {},
   "outputs": [],
   "source": [
    "# Create dataframe for Illinois\n",
    "\n",
    "csv_path = \"ILserial.csv\"\n",
    "IL_df = pd.read_csv(csv_path, encoding = \"ISO-8859-1\")\n",
    "IL_df.head()"
   ]
  },
  {
   "cell_type": "code",
   "execution_count": null,
   "metadata": {},
   "outputs": [],
   "source": [
    "# Create dataframe for Indiana\n",
    "\n",
    "csv_path = \"INserial.csv\"\n",
    "IN_df = pd.read_csv(csv_path, encoding = \"ISO-8859-1\")\n",
    "IN_df.head()"
   ]
  },
  {
   "cell_type": "code",
   "execution_count": null,
   "metadata": {},
   "outputs": [],
   "source": [
    "# Create dataframe for Iowa\n",
    "\n",
    "csv_path = \"IAserial.csv\"\n",
    "IA_df = pd.read_csv(csv_path, encoding = \"ISO-8859-1\")\n",
    "IA_df.head()"
   ]
  },
  {
   "cell_type": "code",
   "execution_count": null,
   "metadata": {},
   "outputs": [],
   "source": [
    "# Create dataframe for Kansas\n",
    "\n",
    "csv_path = \"KSserial.csv\"\n",
    "KS_df = pd.read_csv(csv_path)\n",
    "KS_df.head()"
   ]
  },
  {
   "cell_type": "code",
   "execution_count": null,
   "metadata": {},
   "outputs": [],
   "source": [
    "# Create dataframe for Kentucky\n",
    "\n",
    "csv_path = \"KYserial.csv\"\n",
    "KY_df = pd.read_csv(csv_path)\n",
    "KY_df.head()"
   ]
  },
  {
   "cell_type": "code",
   "execution_count": null,
   "metadata": {},
   "outputs": [],
   "source": [
    "# Create dataframe for Louisiana\n",
    "\n",
    "csv_path = \"LAserial.csv\"\n",
    "LA_df = pd.read_csv(csv_path)\n",
    "LA_df.head()"
   ]
  },
  {
   "cell_type": "code",
   "execution_count": null,
   "metadata": {},
   "outputs": [],
   "source": [
    "# Create dataframe for Maine\n",
    "\n",
    "csv_path = \"MEserial.csv\"\n",
    "MA_df = pd.read_csv(csv_path)\n",
    "MA_df.head()"
   ]
  },
  {
   "cell_type": "code",
   "execution_count": null,
   "metadata": {},
   "outputs": [],
   "source": [
    "# Create dataframe for Maryland\n",
    "\n",
    "csv_path = \"MDserial.csv\"\n",
    "MD_df = pd.read_csv(csv_path, encoding = \"ISO-8859-1\")\n",
    "MD_df.head()"
   ]
  },
  {
   "cell_type": "code",
   "execution_count": null,
   "metadata": {},
   "outputs": [],
   "source": [
    "# Create dataframe for Massachusetts\n",
    "\n",
    "csv_path = \"MAserial.csv\"\n",
    "MA_df = pd.read_csv(csv_path)\n",
    "MA_df.head()"
   ]
  },
  {
   "cell_type": "code",
   "execution_count": null,
   "metadata": {},
   "outputs": [],
   "source": [
    "# Create dataframe for Michigan\n",
    "\n",
    "csv_path = \"MIserial.csv\"\n",
    "MI_df = pd.read_csv(csv_path)\n",
    "MI_df.head()"
   ]
  },
  {
   "cell_type": "code",
   "execution_count": null,
   "metadata": {},
   "outputs": [],
   "source": [
    "# Create dataframe for Minnesota\n",
    "\n",
    "csv_path = \"MNserial.csv\"\n",
    "MN_df = pd.read_csv(csv_path)\n",
    "MN_df.head()"
   ]
  },
  {
   "cell_type": "code",
   "execution_count": null,
   "metadata": {},
   "outputs": [],
   "source": [
    "# Create dataframe for Mississippi\n",
    "\n",
    "csv_path = \"MSserial.csv\"\n",
    "MS_df = pd.read_csv(csv_path)\n",
    "MS_df.head()"
   ]
  },
  {
   "cell_type": "code",
   "execution_count": null,
   "metadata": {},
   "outputs": [],
   "source": [
    "# Create dataframe for Missouri\n",
    "\n",
    "csv_path = \"MOserial.csv\"\n",
    "MO_df = pd.read_csv(csv_path)\n",
    "MO_df.head()"
   ]
  },
  {
   "cell_type": "code",
   "execution_count": null,
   "metadata": {},
   "outputs": [],
   "source": [
    "# Create dataframe for Montana\n",
    "\n",
    "csv_path = \"MTserial.csv\"\n",
    "MT_df = pd.read_csv(csv_path)\n",
    "MT_df.head()"
   ]
  },
  {
   "cell_type": "code",
   "execution_count": null,
   "metadata": {},
   "outputs": [],
   "source": [
    "# Create dataframe for Nebraska\n",
    "\n",
    "csv_path = \"NEserial.csv\"\n",
    "NE_df = pd.read_csv(csv_path)\n",
    "NE_df.head()"
   ]
  },
  {
   "cell_type": "code",
   "execution_count": null,
   "metadata": {},
   "outputs": [],
   "source": [
    "# Create dataframe for Nevada\n",
    "\n",
    "csv_path = \"NVserial.csv\"\n",
    "NV_df = pd.read_csv(csv_path)\n",
    "NV_df.head()"
   ]
  },
  {
   "cell_type": "code",
   "execution_count": null,
   "metadata": {},
   "outputs": [],
   "source": [
    "# Create dataframe for New Hampshire\n",
    "\n",
    "csv_path = \"NHserial.csv\"\n",
    "NH_df = pd.read_csv(csv_path)\n",
    "NH_df.head()"
   ]
  },
  {
   "cell_type": "code",
   "execution_count": null,
   "metadata": {},
   "outputs": [],
   "source": [
    "# Create dataframe for New Jersey\n",
    "\n",
    "csv_path = \"NJserial.csv\"\n",
    "NJ_df = pd.read_csv(csv_path)\n",
    "NJ_df.head()"
   ]
  },
  {
   "cell_type": "code",
   "execution_count": null,
   "metadata": {},
   "outputs": [],
   "source": [
    "# Create dataframe for New Mexico\n",
    "\n",
    "csv_path = \"NMserial.csv\"\n",
    "NM_df = pd.read_csv(csv_path)\n",
    "NM_df.head()"
   ]
  },
  {
   "cell_type": "code",
   "execution_count": null,
   "metadata": {},
   "outputs": [],
   "source": [
    "# Create dataframe for New York\n",
    "\n",
    "csv_path = \"NYserial.csv\"\n",
    "NY_df = pd.read_csv(csv_path)\n",
    "NY_df.head()"
   ]
  },
  {
   "cell_type": "code",
   "execution_count": null,
   "metadata": {},
   "outputs": [],
   "source": [
    "# Create dataframe for North Carolina\n",
    "\n",
    "csv_path = \"NCserial.csv\"\n",
    "NC_df = pd.read_csv(csv_path)\n",
    "NC_df.head()"
   ]
  },
  {
   "cell_type": "code",
   "execution_count": null,
   "metadata": {},
   "outputs": [],
   "source": [
    "# Create dataframe for North Dakota\n",
    "\n",
    "csv_path = \"NDserial.csv\"\n",
    "ND_df = pd.read_csv(csv_path)\n",
    "ND_df.head()"
   ]
  },
  {
   "cell_type": "code",
   "execution_count": null,
   "metadata": {},
   "outputs": [],
   "source": [
    "# Create dataframe for Ohio\n",
    "\n",
    "csv_path = \"OHserial.csv\"\n",
    "OH_df = pd.read_csv(csv_path, encoding = \"ISO-8859-1\")\n",
    "OH_df.head()"
   ]
  },
  {
   "cell_type": "code",
   "execution_count": null,
   "metadata": {},
   "outputs": [],
   "source": [
    "# Create dataframe for Oklahoma\n",
    "\n",
    "csv_path = \"OKserial.csv\"\n",
    "OK_df = pd.read_csv(csv_path)\n",
    "OK_df.head()"
   ]
  },
  {
   "cell_type": "code",
   "execution_count": null,
   "metadata": {},
   "outputs": [],
   "source": [
    "# Create dataframe for Oregon\n",
    "\n",
    "csv_path = \"ORserial.csv\"\n",
    "OR_df = pd.read_csv(csv_path, encoding = \"ISO-8859-1\")\n",
    "OR_df.head()"
   ]
  },
  {
   "cell_type": "code",
   "execution_count": null,
   "metadata": {},
   "outputs": [],
   "source": [
    "# Create dataframe for Pennsylvania\n",
    "\n",
    "csv_path = \"PAserial.csv\"\n",
    "PA_df = pd.read_csv(csv_path)\n",
    "PA_df.head()"
   ]
  },
  {
   "cell_type": "code",
   "execution_count": null,
   "metadata": {},
   "outputs": [],
   "source": [
    "# Create dataframe for Rhode Island\n",
    "\n",
    "csv_path = \"RIserial.csv\"\n",
    "RI_df = pd.read_csv(csv_path, encoding = \"ISO-8859-1\")\n",
    "RI_df.head()"
   ]
  },
  {
   "cell_type": "code",
   "execution_count": null,
   "metadata": {},
   "outputs": [],
   "source": [
    "# Create dataframe for South Carolina\n",
    "\n",
    "csv_path = \"SCserial.csv\"\n",
    "SC_df = pd.read_csv(csv_path)\n",
    "SC_df.head()"
   ]
  },
  {
   "cell_type": "code",
   "execution_count": null,
   "metadata": {},
   "outputs": [],
   "source": [
    "# Create dataframe for South Dakota\n",
    "\n",
    "csv_path = \"SDserial.csv\"\n",
    "SD_df = pd.read_csv(csv_path)\n",
    "SD_df.head()"
   ]
  },
  {
   "cell_type": "code",
   "execution_count": null,
   "metadata": {},
   "outputs": [],
   "source": [
    "# Create dataframe for Tennessee\n",
    "\n",
    "csv_path = \"TNserial.csv\"\n",
    "TN_df = pd.read_csv(csv_path)\n",
    "TN_df.head()"
   ]
  },
  {
   "cell_type": "code",
   "execution_count": null,
   "metadata": {},
   "outputs": [],
   "source": [
    "# Create dataframe for Texas\n",
    "\n",
    "csv_path = \"TXserial.csv\"\n",
    "TX_df = pd.read_csv(csv_path)\n",
    "TX_df.head()"
   ]
  },
  {
   "cell_type": "code",
   "execution_count": null,
   "metadata": {},
   "outputs": [],
   "source": [
    "# Create dataframe for Utah\n",
    "\n",
    "csv_path = \"UTserial.csv\"\n",
    "UT_df = pd.read_csv(csv_path)\n",
    "UT_df.head()"
   ]
  },
  {
   "cell_type": "code",
   "execution_count": null,
   "metadata": {},
   "outputs": [],
   "source": [
    "# Create dataframe for Vermont\n",
    "\n",
    "csv_path = \"VTserial.csv\"\n",
    "VT_df = pd.read_csv(csv_path)\n",
    "VT_df.head()"
   ]
  },
  {
   "cell_type": "code",
   "execution_count": null,
   "metadata": {},
   "outputs": [],
   "source": [
    "# Create dataframe for Virginia\n",
    "\n",
    "csv_path = \"VAserial.csv\"\n",
    "VA_df = pd.read_csv(csv_path, encoding = \"ISO-8859-1\")\n",
    "VA_df.head()"
   ]
  },
  {
   "cell_type": "code",
   "execution_count": null,
   "metadata": {},
   "outputs": [],
   "source": [
    "# Create dataframe for Washington\n",
    "\n",
    "csv_path = \"WAserial.csv\"\n",
    "WA_df = pd.read_csv(csv_path)\n",
    "WA_df.head()"
   ]
  },
  {
   "cell_type": "code",
   "execution_count": null,
   "metadata": {},
   "outputs": [],
   "source": [
    "# Create dataframe for West Virginia\n",
    "\n",
    "csv_path = \"WVserial.csv\"\n",
    "WV_df = pd.read_csv(csv_path)\n",
    "WV_df.head()"
   ]
  },
  {
   "cell_type": "code",
   "execution_count": null,
   "metadata": {},
   "outputs": [],
   "source": [
    "# Create dataframe for Wisconsin\n",
    "\n",
    "csv_path = \"WIserial.csv\"\n",
    "WI_df = pd.read_csv(csv_path, encoding = \"ISO-8859-1\")\n",
    "WI_df.head()"
   ]
  },
  {
   "cell_type": "code",
   "execution_count": null,
   "metadata": {},
   "outputs": [],
   "source": [
    "# Create dataframe for Wyoming\n",
    "\n",
    "csv_path = \"WYserial.csv\"\n",
    "WY_df = pd.read_csv(csv_path)\n",
    "WY_df.head()"
   ]
  },
  {
   "cell_type": "code",
   "execution_count": null,
   "metadata": {},
   "outputs": [],
   "source": [
    "WY_df[[\"Name\", \"KilrType\", \"NumVics\", \"Kilcountry\", \"Kilstate\", \"birthyear\", \"Age1stKil\",\"YearFirst\", \"YearFinal\", \"Century\", \"DecStart\",\"AamodtType\",\"PrevArr\",\"PsychAbus\",\"PhysAbus\"]].head()"
   ]
  },
  {
   "cell_type": "code",
   "execution_count": null,
   "metadata": {},
   "outputs": [],
   "source": [
    "WY_df[[\"Name\", \"NumVics\"]].head()"
   ]
  },
  {
   "cell_type": "code",
   "execution_count": null,
   "metadata": {},
   "outputs": [],
   "source": [
    "VT_df[[\"Name\", \"KilrType\", \"NumVics\", \"Kilcountry\", \"Kilstate\", \"birthyear\", \"Age1stKil\",\"YearFirst\", \"YearFinal\", \"Century\", \"DecStart\",\"AamodtType\",\"PrevArr\",\"PsychAbus\",\"PhysAbus\"]].head()"
   ]
  },
  {
   "cell_type": "code",
   "execution_count": null,
   "metadata": {},
   "outputs": [],
   "source": [
    "# filtered columns\n",
    "\n",
    "#_df[[\"Name\", \"KilrType\", \"NumVics\", \"Kilcountry\", \"Kilstate\", \"birthyear\", \"Age1stKil\",\"YearFirst\", \"YearFinal\", \"Century\", \"DecStart\",\"AamodtType\",\"PrevArr\",\"PsychAbus\",\"PhysAbus\"]].head()\n",
    "\n",
    "# Victim count\n",
    "\n",
    "#_df[[\"Name\", \"NumVics\"]].head()\n",
    "\n"
   ]
  },
  {
   "cell_type": "code",
   "execution_count": null,
   "metadata": {},
   "outputs": [],
   "source": [
    "# filtered columns\n",
    "\n",
    "_df[[\"Name\", \"KilrType\", \"NumVics\", \"Kilcountry\", \"Kilstate\", \"birthyear\", \"Age1stKil\",\"YearFirst\", \"YearFinal\", \"Century\", \"DecStart\",\"AamodtType\",\"PrevArr\",\"PsychAbus\",\"PhysAbus\"]].head()\n"
   ]
  },
  {
   "cell_type": "code",
   "execution_count": null,
   "metadata": {},
   "outputs": [],
   "source": []
  }
 ],
 "metadata": {
  "kernelspec": {
   "display_name": "Python 3",
   "language": "python",
   "name": "python3"
  },
  "language_info": {
   "codemirror_mode": {
    "name": "ipython",
    "version": 3
   },
   "file_extension": ".py",
   "mimetype": "text/x-python",
   "name": "python",
   "nbconvert_exporter": "python",
   "pygments_lexer": "ipython3",
   "version": "3.6.4"
  }
 },
 "nbformat": 4,
 "nbformat_minor": 2
}
