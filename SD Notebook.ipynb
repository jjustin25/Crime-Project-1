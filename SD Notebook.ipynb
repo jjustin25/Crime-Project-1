{
 "cells": [
  {
   "cell_type": "code",
   "execution_count": 1,
   "metadata": {},
   "outputs": [],
   "source": [
    "import pandas as pd"
   ]
  },
  {
   "cell_type": "code",
   "execution_count": 2,
   "metadata": {},
   "outputs": [
    {
     "data": {
      "text/html": [
       "<div>\n",
       "<style scoped>\n",
       "    .dataframe tbody tr th:only-of-type {\n",
       "        vertical-align: middle;\n",
       "    }\n",
       "\n",
       "    .dataframe tbody tr th {\n",
       "        vertical-align: top;\n",
       "    }\n",
       "\n",
       "    .dataframe thead th {\n",
       "        text-align: right;\n",
       "    }\n",
       "</style>\n",
       "<table border=\"1\" class=\"dataframe\">\n",
       "  <thead>\n",
       "    <tr style=\"text-align: right;\">\n",
       "      <th></th>\n",
       "      <th>ID</th>\n",
       "      <th>Name</th>\n",
       "      <th>Alias</th>\n",
       "      <th>PrisonNum</th>\n",
       "      <th>PrisonState</th>\n",
       "      <th>KilrType</th>\n",
       "      <th>Sex</th>\n",
       "      <th>Race</th>\n",
       "      <th>WhiteMale</th>\n",
       "      <th>WhiteMale20s</th>\n",
       "      <th>...</th>\n",
       "      <th>OtherTotem</th>\n",
       "      <th>2020</th>\n",
       "      <th>BodyWater</th>\n",
       "      <th>BodySunk</th>\n",
       "      <th>YrsSent</th>\n",
       "      <th>DobbertPri</th>\n",
       "      <th>DobbertSec</th>\n",
       "      <th>PartnerID</th>\n",
       "      <th>KilrSubType</th>\n",
       "      <th>AttmpVics</th>\n",
       "    </tr>\n",
       "  </thead>\n",
       "  <tbody>\n",
       "    <tr>\n",
       "      <th>0</th>\n",
       "      <td>3193</td>\n",
       "      <td>Sitts, George</td>\n",
       "      <td>NaN</td>\n",
       "      <td>NaN</td>\n",
       "      <td>NaN</td>\n",
       "      <td>Serial</td>\n",
       "      <td>1</td>\n",
       "      <td>1</td>\n",
       "      <td>1</td>\n",
       "      <td>0</td>\n",
       "      <td>...</td>\n",
       "      <td>0</td>\n",
       "      <td>0</td>\n",
       "      <td>0</td>\n",
       "      <td>0</td>\n",
       "      <td>NaN</td>\n",
       "      <td>NaN</td>\n",
       "      <td>NaN</td>\n",
       "      <td>NaN</td>\n",
       "      <td>NaN</td>\n",
       "      <td>NaN</td>\n",
       "    </tr>\n",
       "  </tbody>\n",
       "</table>\n",
       "<p>1 rows × 180 columns</p>\n",
       "</div>"
      ],
      "text/plain": [
       "     ID           Name  Alias  PrisonNum  PrisonState KilrType  Sex  Race  \\\n",
       "0  3193  Sitts, George    NaN        NaN          NaN   Serial    1     1   \n",
       "\n",
       "   WhiteMale  WhiteMale20s    ...      OtherTotem 2020 BodyWater BodySunk  \\\n",
       "0          1             0    ...               0    0         0        0   \n",
       "\n",
       "  YrsSent  DobbertPri  DobbertSec PartnerID  KilrSubType  AttmpVics  \n",
       "0     NaN         NaN         NaN       NaN          NaN        NaN  \n",
       "\n",
       "[1 rows x 180 columns]"
      ]
     },
     "execution_count": 2,
     "metadata": {},
     "output_type": "execute_result"
    }
   ],
   "source": [
    "csv_path = \"SDserial.csv\"\n",
    "SD_df = pd.read_csv(csv_path)\n",
    "SD_df.head()"
   ]
  },
  {
   "cell_type": "code",
   "execution_count": 3,
   "metadata": {},
   "outputs": [
    {
     "data": {
      "text/html": [
       "<div>\n",
       "<style scoped>\n",
       "    .dataframe tbody tr th:only-of-type {\n",
       "        vertical-align: middle;\n",
       "    }\n",
       "\n",
       "    .dataframe tbody tr th {\n",
       "        vertical-align: top;\n",
       "    }\n",
       "\n",
       "    .dataframe thead th {\n",
       "        text-align: right;\n",
       "    }\n",
       "</style>\n",
       "<table border=\"1\" class=\"dataframe\">\n",
       "  <thead>\n",
       "    <tr style=\"text-align: right;\">\n",
       "      <th></th>\n",
       "      <th>Name</th>\n",
       "      <th>KilrType</th>\n",
       "      <th>NumVics</th>\n",
       "      <th>Kilcountry</th>\n",
       "      <th>Kilstate</th>\n",
       "      <th>birthyear</th>\n",
       "      <th>Age1stKil</th>\n",
       "      <th>YearFirst</th>\n",
       "      <th>YearFinal</th>\n",
       "      <th>Century</th>\n",
       "      <th>DecStart</th>\n",
       "      <th>AamodtType</th>\n",
       "      <th>PrevArr</th>\n",
       "      <th>PsychAbus</th>\n",
       "      <th>PhysAbus</th>\n",
       "    </tr>\n",
       "  </thead>\n",
       "  <tbody>\n",
       "    <tr>\n",
       "      <th>0</th>\n",
       "      <td>Sitts, George</td>\n",
       "      <td>Serial</td>\n",
       "      <td>3</td>\n",
       "      <td>USA-United States</td>\n",
       "      <td>MN / SD</td>\n",
       "      <td>NaN</td>\n",
       "      <td>32</td>\n",
       "      <td>1945</td>\n",
       "      <td>1946</td>\n",
       "      <td>1900</td>\n",
       "      <td>1940</td>\n",
       "      <td>Multiple motives</td>\n",
       "      <td>NaN</td>\n",
       "      <td>NaN</td>\n",
       "      <td>NaN</td>\n",
       "    </tr>\n",
       "  </tbody>\n",
       "</table>\n",
       "</div>"
      ],
      "text/plain": [
       "            Name KilrType  NumVics         Kilcountry Kilstate  birthyear  \\\n",
       "0  Sitts, George   Serial        3  USA-United States  MN / SD        NaN   \n",
       "\n",
       "   Age1stKil  YearFirst  YearFinal  Century  DecStart        AamodtType  \\\n",
       "0         32       1945       1946     1900      1940  Multiple motives   \n",
       "\n",
       "   PrevArr  PsychAbus  PhysAbus  \n",
       "0      NaN        NaN       NaN  "
      ]
     },
     "execution_count": 3,
     "metadata": {},
     "output_type": "execute_result"
    }
   ],
   "source": [
    "SD_df[[\"Name\", \"KilrType\", \"NumVics\", \"Kilcountry\", \"Kilstate\", \"birthyear\", \"Age1stKil\",\"YearFirst\", \"YearFinal\", \"Century\", \"DecStart\",\"AamodtType\",\"PrevArr\",\"PsychAbus\",\"PhysAbus\"]].head()"
   ]
  },
  {
   "cell_type": "code",
   "execution_count": 5,
   "metadata": {},
   "outputs": [
    {
     "data": {
      "text/html": [
       "<div>\n",
       "<style scoped>\n",
       "    .dataframe tbody tr th:only-of-type {\n",
       "        vertical-align: middle;\n",
       "    }\n",
       "\n",
       "    .dataframe tbody tr th {\n",
       "        vertical-align: top;\n",
       "    }\n",
       "\n",
       "    .dataframe thead th {\n",
       "        text-align: right;\n",
       "    }\n",
       "</style>\n",
       "<table border=\"1\" class=\"dataframe\">\n",
       "  <thead>\n",
       "    <tr style=\"text-align: right;\">\n",
       "      <th></th>\n",
       "      <th>Name</th>\n",
       "      <th>NumVics</th>\n",
       "    </tr>\n",
       "  </thead>\n",
       "  <tbody>\n",
       "    <tr>\n",
       "      <th>0</th>\n",
       "      <td>Sitts, George</td>\n",
       "      <td>3</td>\n",
       "    </tr>\n",
       "  </tbody>\n",
       "</table>\n",
       "</div>"
      ],
      "text/plain": [
       "            Name  NumVics\n",
       "0  Sitts, George        3"
      ]
     },
     "execution_count": 5,
     "metadata": {},
     "output_type": "execute_result"
    }
   ],
   "source": [
    "SD_df[[\"Name\", \"NumVics\"]].head()"
   ]
  },
  {
   "cell_type": "code",
   "execution_count": null,
   "metadata": {},
   "outputs": [],
   "source": []
  }
 ],
 "metadata": {
  "kernelspec": {
   "display_name": "Python 3",
   "language": "python",
   "name": "python3"
  },
  "language_info": {
   "codemirror_mode": {
    "name": "ipython",
    "version": 3
   },
   "file_extension": ".py",
   "mimetype": "text/x-python",
   "name": "python",
   "nbconvert_exporter": "python",
   "pygments_lexer": "ipython3",
   "version": "3.6.4"
  }
 },
 "nbformat": 4,
 "nbformat_minor": 2
}
